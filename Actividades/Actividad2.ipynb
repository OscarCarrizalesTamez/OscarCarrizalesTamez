{
  "nbformat": 4,
  "nbformat_minor": 0,
  "metadata": {
    "colab": {
      "provenance": []
    },
    "kernelspec": {
      "name": "python3",
      "display_name": "Python 3"
    },
    "language_info": {
      "name": "python"
    }
  },
  "cells": [
    {
      "cell_type": "code",
      "execution_count": 1,
      "metadata": {
        "colab": {
          "base_uri": "https://localhost:8080/"
        },
        "id": "rjl9fdR2rr_H",
        "outputId": "ad5e3ba5-e7fe-4bf7-cbe5-c599b1bbf3d7"
      },
      "outputs": [
        {
          "output_type": "stream",
          "name": "stdout",
          "text": [
            "Por favor, introduce tu nombre: oscar\n",
            "Hola, oscar!\n"
          ]
        }
      ],
      "source": [
        "#1. Oscar Alejandro Carrizales Tamez, Actividad 2: Diseño de Algoritmos en python, 2006265, N1#\n",
        "\n",
        "nombre = input(\"Por favor, introduce tu nombre: \")\n",
        "\n",
        "if nombre.lower() in [\"ana\", \"juan\", \"pedro\"]:\n",
        "    print(\"Lo siento, no puedo saludar a Ana, Juan o Pedro.\")\n",
        "else:\n",
        "    print(\"Hola,\", nombre + \"!\")\n"
      ]
    },
    {
      "cell_type": "code",
      "source": [
        "#2. Desarrolla un algoritmo que por medio de una funcion.\n",
        "def invertir_lista(lista):\n",
        "    lista_invertida = []  #\n",
        "    for elemento in reversed(lista):\n",
        "        lista_invertida.append(elemento)\n",
        "    return lista_invertida\n",
        "\n",
        "\n",
        "N = int(input(\"Ingrese el número de elementos en la lista: \"))\n",
        "\n",
        "\n",
        "lista_elementos = []\n",
        "for i in range(N):\n",
        "    elemento = input(\"Ingrese el elemento {}: \".format(i+1))\n",
        "    lista_elementos.append(elemento)\n",
        "\n",
        "\n",
        "print(\"Lista original:\", lista_elementos)\n",
        "\n",
        "\n",
        "lista_invertida = invertir_lista(lista_elementos)\n",
        "\n",
        "\n",
        "print(\"Lista invertida:\", lista_invertida)"
      ],
      "metadata": {
        "colab": {
          "base_uri": "https://localhost:8080/"
        },
        "id": "aXNDDTw1r2U4",
        "outputId": "a65229ca-d029-4838-b6af-9557f875af5a"
      },
      "execution_count": 2,
      "outputs": [
        {
          "output_type": "stream",
          "name": "stdout",
          "text": [
            "Ingrese el número de elementos en la lista: 3\n",
            "Ingrese el elemento 1: 1\n",
            "Ingrese el elemento 2: 2\n",
            "Ingrese el elemento 3: 3\n",
            "Lista original: ['1', '2', '3']\n",
            "Lista invertida: ['3', '2', '1']\n"
          ]
        }
      ]
    },
    {
      "cell_type": "code",
      "source": [
        "# 3.Generar serie de fibonacci\n",
        "def fibonacci(n):\n",
        "\n",
        "    fibonacci_series = [0, 1]\n",
        "\n",
        "\n",
        "    for i in range(2, n):\n",
        "        next_number = fibonacci_series[i-1] + fibonacci_series[i-2]\n",
        "        fibonacci_series.append(next_number)\n",
        "\n",
        "    return fibonacci_series\n",
        "\n",
        "n = int(input(\"Ingrese la cantidad de números de Fibonacci que desea generar: \"))\n",
        "\n",
        "\n",
        "serie_fibonacci = fibonacci(n)\n",
        "\n",
        "\n",
        "print(\"Serie de Fibonacci de longitud\", n, \":\", serie_fibonacci)\n"
      ],
      "metadata": {
        "colab": {
          "base_uri": "https://localhost:8080/"
        },
        "id": "qBike4_Dr29M",
        "outputId": "f45ff067-3034-48a6-ae63-765844366a51"
      },
      "execution_count": 3,
      "outputs": [
        {
          "output_type": "stream",
          "name": "stdout",
          "text": [
            "Ingrese la cantidad de números de Fibonacci que desea generar: 10\n",
            "Serie de Fibonacci de longitud 10 : [0, 1, 1, 2, 3, 5, 8, 13, 21, 34]\n"
          ]
        }
      ]
    },
    {
      "cell_type": "code",
      "source": [
        "# 4.Juego de adivinar el numero#\n",
        "import random\n",
        "\n",
        "numero_objetivo = random.randint(1, 100)\n",
        "\n",
        "print(\"juego de adivinar el número\")\n",
        "\n",
        "intentos = 0\n",
        "\n",
        "while True:\n",
        "    intento = int(input(\"Intenta adivinar el número (entre 1 y 100): \"))\n",
        "    intentos += 1\n",
        "    if intento == numero_objetivo:\n",
        "        print(\"¡Has adivinado el número en\", intentos, \"intentos!\")\n",
        "        break\n",
        "    elif intento < numero_objetivo:\n",
        "        print(\"El número es mayor que\", intento)\n",
        "    else:\n",
        "        print(\"El número es menor que\", intento)\n"
      ],
      "metadata": {
        "colab": {
          "base_uri": "https://localhost:8080/"
        },
        "id": "6I5j0JZCr3TG",
        "outputId": "d1207ef0-6110-4d66-e919-bb4b607278a1"
      },
      "execution_count": 4,
      "outputs": [
        {
          "output_type": "stream",
          "name": "stdout",
          "text": [
            "juego de adivinar el número\n",
            "Intenta adivinar el número (entre 1 y 100): 30\n",
            "El número es mayor que 30\n",
            "Intenta adivinar el número (entre 1 y 100): 50\n",
            "El número es mayor que 50\n",
            "Intenta adivinar el número (entre 1 y 100): 80\n",
            "El número es menor que 80\n",
            "Intenta adivinar el número (entre 1 y 100): 60\n",
            "El número es mayor que 60\n",
            "Intenta adivinar el número (entre 1 y 100): 65\n",
            "El número es mayor que 65\n",
            "Intenta adivinar el número (entre 1 y 100): 70\n",
            "¡Has adivinado el número en 6 intentos!\n"
          ]
        }
      ]
    },
    {
      "cell_type": "code",
      "source": [
        "##5. Ejercicio de cálculo de números primos.\n",
        "def primo(numero):\n",
        "    if numero <= 1:\n",
        "        return False\n",
        "    elif numero <= 3:\n",
        "        return True\n",
        "    elif numero % 2 == 0 or numero % 3 == 0:\n",
        "        return False\n",
        "    i = 5\n",
        "    while i * i <= numero:\n",
        "        if numero % i == 0 or numero % (i + 2) == 0:\n",
        "            return False\n",
        "        i += 6\n",
        "    return True\n",
        "\n",
        "inicio = int(input(\"Ingrese el inicio del rango: \"))\n",
        "fin = int(input(\"Ingrese el fin del rango: \"))\n",
        "\n",
        "print(\"Números primos en el rango de\", inicio, \"a\", fin, \":\")\n",
        "\n",
        "for numero in range(inicio, fin + 1):\n",
        "    if primo(numero):\n",
        "        print(numero)\n"
      ],
      "metadata": {
        "colab": {
          "base_uri": "https://localhost:8080/"
        },
        "id": "ONeIPv9dsVMt",
        "outputId": "dcee6e3c-de90-49a7-9eb3-9a693aef620f"
      },
      "execution_count": 5,
      "outputs": [
        {
          "output_type": "stream",
          "name": "stdout",
          "text": [
            "Ingrese el inicio del rango: 1\n",
            "Ingrese el fin del rango: 7\n",
            "Números primos en el rango de 1 a 7 :\n",
            "2\n",
            "3\n",
            "5\n",
            "7\n"
          ]
        }
      ]
    },
    {
      "cell_type": "code",
      "source": [
        "# 6.Ejercicio de implementación de una calculadora básica utilizando funciones\n",
        "def suma(a, b):\n",
        "    return a + b\n",
        "\n",
        "def resta(a, b):\n",
        "    return a - b\n",
        "\n",
        "def multiplicacion(a, b):\n",
        "    return a * b\n",
        "\n",
        "\n",
        "def division(a, b):\n",
        "\n",
        "    if b == 0:\n",
        "        return \"No se puede dividir por cero.\"\n",
        "    else:\n",
        "        return a / b\n",
        "\n",
        "\n",
        "numero1 = float(input(\"Ingrese el primer número: \"))\n",
        "numero2 = float(input(\"Ingrese el segundo número: \"))\n",
        "\n",
        "\n",
        "print(\"Seleccione la operación que desea realizar:\")\n",
        "print(\"1. Suma\")\n",
        "print(\"2. Resta\")\n",
        "print(\"3. Multiplicación\")\n",
        "print(\"4. División\")\n",
        "\n",
        "\n",
        "opcion = input(\"Ingrese el número de la operación que desea realizar: \")\n",
        "\n",
        "\n",
        "if opcion == '1':\n",
        "    resultado = suma(numero1, numero2)\n",
        "    print(\"El resultado de la suma es:\", resultado)\n",
        "elif opcion == '2':\n",
        "    resultado = resta(numero1, numero2)\n",
        "    print(\"El resultado de la resta es:\", resultado)\n",
        "elif opcion == '3':\n",
        "    resultado = multiplicacion(numero1, numero2)\n",
        "    print(\"El resultado de la multiplicación es:\", resultado)\n",
        "elif opcion == '4':\n",
        "    resultado = division(numero1, numero2)\n",
        "    print(\"El resultado de la división es:\", resultado)\n",
        "else:\n",
        "    print(\"Opción no válida. Por favor, ingrese un número del 1 al 4 para seleccionar una operación.\")\n"
      ],
      "metadata": {
        "colab": {
          "base_uri": "https://localhost:8080/"
        },
        "id": "xq0MBFuFsfp6",
        "outputId": "6c1eee9d-205f-48aa-cfd8-1ac68d441ebd"
      },
      "execution_count": 7,
      "outputs": [
        {
          "output_type": "stream",
          "name": "stdout",
          "text": [
            "Ingrese el primer número: 1\n",
            "Ingrese el segundo número: 9\n",
            "Seleccione la operación que desea realizar:\n",
            "1. Suma\n",
            "2. Resta\n",
            "3. Multiplicación\n",
            "4. División\n",
            "Ingrese el número de la operación que desea realizar: 1\n",
            "El resultado de la suma es: 10.0\n"
          ]
        }
      ]
    }
  ]
}