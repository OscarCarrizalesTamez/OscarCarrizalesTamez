{
  "nbformat": 4,
  "nbformat_minor": 0,
  "metadata": {
    "colab": {
      "provenance": []
    },
    "kernelspec": {
      "name": "python3",
      "display_name": "Python 3"
    },
    "language_info": {
      "name": "python"
    }
  },
  "cells": [
    {
      "cell_type": "code",
      "source": [
        "Oscar Alejandro Carrizales Tamez\n",
        "2006265\n",
        "Actividad:6 Red Neuronal Convolucional\n",
        "Hora:N1 Grupo:007"
      ],
      "metadata": {
        "id": "QB-QjD55Gy_8"
      },
      "execution_count": null,
      "outputs": []
    },
    {
      "cell_type": "code",
      "source": [
        "import numpy as np\n",
        "import matplotlib.pyplot as plt\n",
        "import tensorflow as tf\n",
        "from tensorflow.keras.datasets import mnist\n",
        "from tensorflow.keras.models import Sequential\n",
        "from tensorflow.keras.layers import Conv2D, MaxPooling2D, Flatten, Dense\n",
        "\n",
        "# Carga al conjunto de datos MNIST\n",
        "(train_data, train_labels), (test_data, test_labels) = mnist.load_data()\n",
        "\n",
        "# Preprocesamiento de los datos\n",
        "train_data = train_data.reshape((train_data.shape[0], 28, 28, 1)).astype('float32') / 255\n",
        "test_data = test_data.reshape((test_data.shape[0], 28, 28, 1)).astype('float32') / 255\n",
        "\n",
        "# Definir la estructura de la red neuronal convolucional\n",
        "model = Sequential([\n",
        "    Conv2D(32, (3, 3), activation='relu', input_shape=(28, 28, 1)),\n",
        "    MaxPooling2D((2, 2)),\n",
        "    Conv2D(64, (3, 3), activation='relu'),\n",
        "    MaxPooling2D((2, 2)),\n",
        "    Flatten(),\n",
        "    Dense(128, activation='relu'),\n",
        "    Dense(10, activation='softmax')\n",
        "])\n",
        "\n",
        "model.compile(optimizer='adam',\n",
        "              loss='sparse_categorical_crossentropy',\n",
        "              metrics=['accuracy'])\n",
        "\n",
        "# Entrenamiento del modelo\n",
        "history = model.fit(train_data, train_labels, epochs=5, validation_data=(test_data, test_labels))\n",
        "\n",
        "# Evaluar el modelo con los datos de prueba\n",
        "test_loss, test_accuracy = model.evaluate(test_data, test_labels)\n",
        "print(\"Exactitud del modelo en datos de prueba:\", test_accuracy)\n",
        "# Realizar predicciones y mostrar las imágenes\n",
        "num_predicciones = 5\n",
        "indices_aleatorios = np.random.choice(test_data.shape[0], num_predicciones, replace=False)\n",
        "plt.figure(figsize=(15, 5))\n",
        "for i, idx in enumerate(indices_aleatorios):\n",
        "    plt.subplot(1, num_predicciones, i + 1)\n",
        "    plt.imshow(test_data[idx].reshape(28, 28), cmap='gray')\n",
        "    plt.axis('off')\n",
        "    # Realizar la predicción\n",
        "    prediction = model.predict(np.expand_dims(test_data[idx], axis=0))\n",
        "    predicted_label = np.argmax(prediction)\n",
        "    actual_label = test_labels[idx]\n",
        "    plt.title(f\"Predicción: {predicted_label}\\nValor real: {actual_label}\")\n",
        "\n",
        "plt.show()"
      ],
      "metadata": {
        "colab": {
          "base_uri": "https://localhost:8080/",
          "height": 575
        },
        "id": "StTjmXD8IATS",
        "outputId": "e35f85dd-2055-4c54-81a6-91a3dba8c9b3"
      },
      "execution_count": 5,
      "outputs": [
        {
          "output_type": "stream",
          "name": "stdout",
          "text": [
            "Epoch 1/5\n",
            "1875/1875 [==============================] - 54s 28ms/step - loss: 0.1301 - accuracy: 0.9601 - val_loss: 0.0484 - val_accuracy: 0.9852\n",
            "Epoch 2/5\n",
            "1875/1875 [==============================] - 52s 28ms/step - loss: 0.0428 - accuracy: 0.9866 - val_loss: 0.0368 - val_accuracy: 0.9879\n",
            "Epoch 3/5\n",
            "1875/1875 [==============================] - 53s 28ms/step - loss: 0.0292 - accuracy: 0.9908 - val_loss: 0.0351 - val_accuracy: 0.9888\n",
            "Epoch 4/5\n",
            "1875/1875 [==============================] - 50s 27ms/step - loss: 0.0215 - accuracy: 0.9930 - val_loss: 0.0302 - val_accuracy: 0.9902\n",
            "Epoch 5/5\n",
            "1875/1875 [==============================] - 51s 27ms/step - loss: 0.0160 - accuracy: 0.9947 - val_loss: 0.0295 - val_accuracy: 0.9907\n",
            "313/313 [==============================] - 4s 13ms/step - loss: 0.0295 - accuracy: 0.9907\n",
            "Exactitud del modelo en datos de prueba: 0.9907000064849854\n",
            "1/1 [==============================] - 0s 141ms/step\n",
            "1/1 [==============================] - 0s 33ms/step\n",
            "1/1 [==============================] - 0s 34ms/step\n",
            "1/1 [==============================] - 0s 34ms/step\n",
            "1/1 [==============================] - 0s 34ms/step\n"
          ]
        },
        {
          "output_type": "display_data",
          "data": {
            "text/plain": [
              "<Figure size 1500x500 with 5 Axes>"
            ],
            "image/png": "[encoded data removed]"
          },
          "metadata": {}
        }
      ]
    }
  ]
}