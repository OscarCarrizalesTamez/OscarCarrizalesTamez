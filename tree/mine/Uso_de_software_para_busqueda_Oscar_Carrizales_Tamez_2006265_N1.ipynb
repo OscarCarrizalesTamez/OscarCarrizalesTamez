{
  "cells": [
    {
      "cell_type": "code",
      "source": [
        "import tensorflow as tf\n",
        "from tensorflow.keras.datasets import mnist\n",
        "\n",
        "\n",
        "(train_data, train_labels), (test_data, test_labels) = mnist.load_data()\n",
        "\n",
        "\n",
        "train_data = train_data / 255.0\n",
        "test_data = test_data / 255.0\n",
        "\n",
        "\n",
        "model = tf.keras.models.Sequential([\n",
        "    tf.keras.layers.Flatten(input_shape=(28, 28)),\n",
        "    tf.keras.layers.Dense(128, activation='relu'),\n",
        "    tf.keras.layers.Dense(64, activation='relu'),\n",
        "    tf.keras.layers.Dense(10, activation='softmax')\n",
        "])\n",
        "\n",
        "\n",
        "model.compile(optimizer='adam',\n",
        "              loss='sparse_categorical_crossentropy',\n",
        "              metrics=['accuracy'])\n",
        "\n",
        "model.fit(train_data, train_labels, epochs=5)\n",
        "\n",
        "\n",
        "test_loss, test_accuracy = model.evaluate(test_data, test_labels)\n",
        "print(\"Exactitud del modelo en el conjunto de datos de prueba:\", test_accuracy)\n",
        "\n",
        "\n",
        "predictions = model.predict(test_data[:5])\n",
        "for i in range(5):\n",
        "    print(\"Predicción:\", tf.argmax(predictions[i]).numpy())\n",
        "    print(\"Valor real:\", test_labels[i])\n"
      ],
      "metadata": {
        "id": "DJmqPHOOZY-X",
        "outputId": "ce69b980-e040-4d70-e3d7-43c9cdd54a6e",
        "colab": {
          "base_uri": "https://localhost:8080/"
        }
      },
      "execution_count": null,
      "outputs": [
        {
          "output_type": "stream",
          "name": "stdout",
          "text": [
            "Downloading data from https://storage.googleapis.com/tensorflow/tf-keras-datasets/mnist.npz\n",
            "11490434/11490434 [==============================] - 0s 0us/step\n",
            "Epoch 1/5\n",
            "1875/1875 [==============================] - 18s 8ms/step - loss: 0.2402 - accuracy: 0.9301\n",
            "Epoch 2/5\n",
            "1875/1875 [==============================] - 6s 3ms/step - loss: 0.1014 - accuracy: 0.9685\n",
            "Epoch 3/5\n",
            "1875/1875 [==============================] - 6s 3ms/step - loss: 0.0710 - accuracy: 0.9776\n",
            "Epoch 4/5\n",
            "1875/1875 [==============================] - 6s 3ms/step - loss: 0.0532 - accuracy: 0.9834\n",
            "Epoch 5/5\n",
            "1875/1875 [==============================] - 6s 3ms/step - loss: 0.0425 - accuracy: 0.9863\n",
            "313/313 [==============================] - 1s 2ms/step - loss: 0.0738 - accuracy: 0.9769\n",
            "Exactitud del modelo en el conjunto de datos de prueba: 0.9768999814987183\n",
            "1/1 [==============================] - 0s 84ms/step\n",
            "Predicción: 7\n",
            "Valor real: 7\n",
            "Predicción: 2\n",
            "Valor real: 2\n",
            "Predicción: 1\n",
            "Valor real: 1\n",
            "Predicción: 0\n",
            "Valor real: 0\n",
            "Predicción: 4\n",
            "Valor real: 4\n"
          ]
        }
      ]
    }
  ],
  "metadata": {
    "colab": {
      "provenance": []
    },
    "kernelspec": {
      "display_name": "Python 3",
      "name": "python3"
    }
  },
  "nbformat": 4,
  "nbformat_minor": 0
}